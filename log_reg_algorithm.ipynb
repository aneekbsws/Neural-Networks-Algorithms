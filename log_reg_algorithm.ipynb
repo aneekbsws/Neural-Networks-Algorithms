{
  "nbformat": 4,
  "nbformat_minor": 0,
  "metadata": {
    "colab": {
      "name": "log-reg-algorithm.ipynb",
      "provenance": [],
      "authorship_tag": "ABX9TyPh0Q5LDVoBTZ3CekgQmTZU",
      "include_colab_link": true
    },
    "kernelspec": {
      "name": "python3",
      "display_name": "Python 3"
    },
    "language_info": {
      "name": "python"
    }
  },
  "cells": [
    {
      "cell_type": "markdown",
      "metadata": {
        "id": "view-in-github",
        "colab_type": "text"
      },
      "source": [
        "<a href=\"https://colab.research.google.com/github/aneekbsws/deeplearning/blob/main/log_reg_algorithm.ipynb\" target=\"_parent\"><img src=\"https://colab.research.google.com/assets/colab-badge.svg\" alt=\"Open In Colab\"/></a>"
      ]
    },
    {
      "cell_type": "markdown",
      "source": [
        "# Setting up the datasets"
      ],
      "metadata": {
        "id": "y6IeZqbH4m1H"
      }
    },
    {
      "cell_type": "code",
      "execution_count": null,
      "metadata": {
        "id": "VaqV6_mh2TAx"
      },
      "outputs": [],
      "source": [
        "import numpy as np\n",
        "import copy\n",
        "import matplotlib.pyplot as plt\n",
        "import h5py\n",
        "import scipy\n",
        "from PIL import Image\n",
        "from scipy import ndimage"
      ]
    },
    {
      "cell_type": "code",
      "source": [
        "def load_dataset():\n",
        "    train_dataset = h5py.File('train_catvnoncat.h5', \"r\")\n",
        "    train_set_x_orig = np.array(train_dataset[\"train_set_x\"][:]) # your train set features\n",
        "    train_set_y_orig = np.array(train_dataset[\"train_set_y\"][:]) # your train set labels\n",
        "\n",
        "    test_dataset = h5py.File('test_catvnoncat.h5', \"r\")\n",
        "    test_set_x_orig = np.array(test_dataset[\"test_set_x\"][:]) # your test set features\n",
        "    test_set_y_orig = np.array(test_dataset[\"test_set_y\"][:]) # your test set labels\n",
        "\n",
        "    classes = np.array(test_dataset[\"list_classes\"][:]) # the list of classes\n",
        "    \n",
        "    train_set_y_orig = train_set_y_orig.reshape((1, train_set_y_orig.shape[0]))\n",
        "    test_set_y_orig = test_set_y_orig.reshape((1, test_set_y_orig.shape[0]))\n",
        "    \n",
        "    return train_set_x_orig, train_set_y_orig, test_set_x_orig, test_set_y_orig, classes"
      ],
      "metadata": {
        "id": "PJ54-X4X2pLl"
      },
      "execution_count": null,
      "outputs": []
    },
    {
      "cell_type": "code",
      "source": [
        "# Loading the data (cat/non-cat)\n",
        "train_set_x_orig, y_train, test_set_x_orig, y_test, classes = load_dataset()"
      ],
      "metadata": {
        "id": "4B-MGaAo4xgC"
      },
      "execution_count": null,
      "outputs": []
    },
    {
      "cell_type": "code",
      "source": [
        "# # Example of a picture\n",
        "# index = 25\n",
        "# plt.imshow(train_set_x_orig[index])\n",
        "# print (\"y = \" + str(train_set_y[:, index]) + \", it's a '\" + classes[np.squeeze(train_set_y[:, index])].decode(\"utf-8\") +  \"' picture.\")"
      ],
      "metadata": {
        "id": "5kAm2pXn4-Ve"
      },
      "execution_count": null,
      "outputs": []
    },
    {
      "cell_type": "code",
      "source": [
        "# Test set details\n",
        "m_train = train_set_x_orig.shape[0]\n",
        "m_test = test_set_x_orig.shape[0]\n",
        "num_px = train_set_x_orig.shape[1]\n",
        "print(m_train)\n",
        "print(m_test)\n",
        "print(num_px)\n",
        "print(train_set_x_orig.shape)"
      ],
      "metadata": {
        "colab": {
          "base_uri": "https://localhost:8080/"
        },
        "id": "6O5sVV605Egd",
        "outputId": "06805e14-3fc7-44fe-abcb-eb89ba1a5053"
      },
      "execution_count": null,
      "outputs": [
        {
          "output_type": "stream",
          "name": "stdout",
          "text": [
            "209\n",
            "50\n",
            "64\n",
            "(209, 64, 64, 3)\n"
          ]
        }
      ]
    },
    {
      "cell_type": "code",
      "source": [
        "# Reshaping the sets - Originally it is (m, nx, nx, 3). Now it'll be ((nx*nx*3),m)\n",
        "x_train_flatten = train_set_x_orig.reshape(train_set_x_orig.shape[0],-1).T\n",
        "x_test_flatten = test_set_x_orig.reshape(test_set_x_orig.shape[0],-1).T"
      ],
      "metadata": {
        "id": "3hICw0v55w7v"
      },
      "execution_count": null,
      "outputs": []
    },
    {
      "cell_type": "code",
      "source": [
        "print(x_train_flatten.shape) \n",
        "print(x_test_flatten.shape)"
      ],
      "metadata": {
        "colab": {
          "base_uri": "https://localhost:8080/"
        },
        "id": "X2H2qK016Idd",
        "outputId": "da870560-a3be-40eb-c133-078f0b003a38"
      },
      "execution_count": null,
      "outputs": [
        {
          "output_type": "stream",
          "name": "stdout",
          "text": [
            "(12288, 209)\n",
            "(12288, 50)\n"
          ]
        }
      ]
    },
    {
      "cell_type": "code",
      "source": [
        "# Standardising (dividing by 255 - max value of pixel channel)\n",
        "x_train = x_train_flatten/255\n",
        "x_test = x_test_flatten/255"
      ],
      "metadata": {
        "id": "OUtQZLjt6MZH"
      },
      "execution_count": null,
      "outputs": []
    },
    {
      "cell_type": "markdown",
      "source": [
        "# Building parts of algorithm"
      ],
      "metadata": {
        "id": "Rfihyijr7-2a"
      }
    },
    {
      "cell_type": "code",
      "source": [
        "# HELPER Functions\n",
        "def sigmoid(z):\n",
        "  s = 1/(1+np.exp(-z))\n",
        "  return s"
      ],
      "metadata": {
        "id": "0k_I8L-l74qu"
      },
      "execution_count": null,
      "outputs": []
    },
    {
      "cell_type": "code",
      "source": [
        "def init_zeros(dimens):\n",
        "  w = np.zeros((dimens,1))\n",
        "  b = 0.0\n",
        "  return w,b"
      ],
      "metadata": {
        "id": "UpqoOl8g8LP8"
      },
      "execution_count": null,
      "outputs": []
    },
    {
      "cell_type": "markdown",
      "source": [
        "# Propagation Methods"
      ],
      "metadata": {
        "id": "7QlabMqf8dag"
      }
    },
    {
      "cell_type": "code",
      "source": [
        "def propagate(w,b,X,Y):\n",
        "  # Forward propagate\n",
        "  m = X.shape[1]\n",
        "  A = sigmoid(np.dot(w.T,X)+b)\n",
        "  first_term = Y*np.log(A)\n",
        "  sec_term = (1-Y)*np.log(1-A)\n",
        "  J = (-1/m)*np.sum(first_term + sec_term)\n",
        "\n",
        "  #back-propagate\n",
        "  dw = (1/m)*(np.dot(X,(A-Y).T))\n",
        "  db = (1/m)*np.sum((A-Y))\n",
        "  J = np.squeeze(np.array(J))\n",
        "  grads = {\"dw\": dw, \"db\":db}\n",
        "  return J, grads"
      ],
      "metadata": {
        "id": "GlKWfsQx8YG2"
      },
      "execution_count": null,
      "outputs": []
    },
    {
      "cell_type": "code",
      "source": [
        "def optimize(w,b,X,Y,num_itr, learning_rate, print_cost):\n",
        "  w = copy.deepcopy(w)\n",
        "  b = copy.deepcopy(b)\n",
        "  costs = []\n",
        "  for i in range(num_itr):\n",
        "    cost, grad = propagate(w,b,X,Y)\n",
        "    dw = grad[\"dw\"]\n",
        "    db = grad[\"db\"]\n",
        "    w = w - (learning_rate*dw)\n",
        "    b = b - (learning_rate*db)\n",
        "    if(i%100==0):\n",
        "      costs.append(cost)\n",
        "      if(print_cost == True):\n",
        "        print(\"Cost after iteration %i : %f\" %(i, cost))\n",
        "  params = {\"w\":w,\"b\":b}\n",
        "  return costs,params,grad"
      ],
      "metadata": {
        "id": "L20hKZUu-Yjv"
      },
      "execution_count": null,
      "outputs": []
    },
    {
      "cell_type": "code",
      "source": [
        "def predict(w,b,X):\n",
        "  m = X.shape[1]\n",
        "  Y_prediction = np.zeros((1,m))\n",
        "  w = w.reshape(X.shape[0],1)\n",
        "  A = sigmoid(np.dot(w.T,X)+b)\n",
        "  for i in range(A.shape[1]):\n",
        "    if(A[0,i] > 0.5):\n",
        "      Y_prediction[0,i] = 1\n",
        "    else:\n",
        "      Y_prediction[0,i] = 0\n",
        "  return Y_prediction"
      ],
      "metadata": {
        "id": "X2n4D9YG_bO1"
      },
      "execution_count": null,
      "outputs": []
    },
    {
      "cell_type": "markdown",
      "source": [
        "# Final Model Function"
      ],
      "metadata": {
        "id": "nR3toRIWATMK"
      }
    },
    {
      "cell_type": "code",
      "source": [
        "def model(X_train, Y_train, X_test, Y_test, num_iterations, learning_rate, print_code):\n",
        "  w,b = init_zeros(X_train.shape[0])\n",
        "  costs, param, grad = optimize(w,b,X_train,Y_train, num_iterations, learning_rate, print_code)\n",
        "  w = param[\"w\"]\n",
        "  b = param[\"b\"]\n",
        "  Y_prediction_train = predict(w,b,X_train)\n",
        "  Y_prediction_test = predict(w,b,X_test)\n",
        "  if print_code:\n",
        "        print(\"train accuracy: {} %\".format(100 - np.mean(np.abs(Y_prediction_train - Y_train)) * 100))\n",
        "        print(\"test accuracy: {} %\".format(100 - np.mean(np.abs(Y_prediction_test - Y_test)) * 100))\n",
        "\n",
        "    \n",
        "  d = {\"costs\": costs,\n",
        "         \"Y_prediction_test\": Y_prediction_test, \n",
        "         \"Y_prediction_train\" : Y_prediction_train, \n",
        "         \"w\" : w, \n",
        "         \"b\" : b,\n",
        "         \"learning_rate\" : learning_rate,\n",
        "         \"num_iterations\": num_iterations}\n",
        "    \n",
        "  return d"
      ],
      "metadata": {
        "id": "pwviykc0ARDV"
      },
      "execution_count": null,
      "outputs": []
    },
    {
      "cell_type": "code",
      "source": [
        "logistic_regression_model = model(x_train, y_train , x_test, y_test, num_iterations=2000, learning_rate=0.005, print_code=True)"
      ],
      "metadata": {
        "colab": {
          "base_uri": "https://localhost:8080/"
        },
        "id": "IuzGj-ViBKTF",
        "outputId": "e2551b88-7496-40d9-dd31-5a78e24287f2"
      },
      "execution_count": null,
      "outputs": [
        {
          "output_type": "stream",
          "name": "stdout",
          "text": [
            "Cost after iteration 0 : 0.693147\n",
            "Cost after iteration 100 : 0.584508\n",
            "Cost after iteration 200 : 0.466949\n",
            "Cost after iteration 300 : 0.376007\n",
            "Cost after iteration 400 : 0.331463\n",
            "Cost after iteration 500 : 0.303273\n",
            "Cost after iteration 600 : 0.279880\n",
            "Cost after iteration 700 : 0.260042\n",
            "Cost after iteration 800 : 0.242941\n",
            "Cost after iteration 900 : 0.228004\n",
            "Cost after iteration 1000 : 0.214820\n",
            "Cost after iteration 1100 : 0.203078\n",
            "Cost after iteration 1200 : 0.192544\n",
            "Cost after iteration 1300 : 0.183033\n",
            "Cost after iteration 1400 : 0.174399\n",
            "Cost after iteration 1500 : 0.166521\n",
            "Cost after iteration 1600 : 0.159305\n",
            "Cost after iteration 1700 : 0.152667\n",
            "Cost after iteration 1800 : 0.146542\n",
            "Cost after iteration 1900 : 0.140872\n",
            "train accuracy: 99.04306220095694 %\n",
            "test accuracy: 70.0 %\n"
          ]
        }
      ]
    },
    {
      "cell_type": "code",
      "source": [
        "# Example of a picture that was wrongly classified.\n",
        "index = 1\n",
        "plt.imshow(x_test[:, index].reshape((num_px, num_px, 3)))\n",
        "print (\"y = \" + str(y_test[0,index]) + \", you predicted that it is a \\\"\" + classes[int(logistic_regression_model['Y_prediction_test'][0,index])].decode(\"utf-8\") +  \"\\\" picture.\")"
      ],
      "metadata": {
        "colab": {
          "base_uri": "https://localhost:8080/",
          "height": 285
        },
        "id": "v4IhYBWECavY",
        "outputId": "4833707c-0312-4328-b0e8-b3cd29451c56"
      },
      "execution_count": null,
      "outputs": [
        {
          "output_type": "stream",
          "name": "stdout",
          "text": [
            "y = 1, you predicted that it is a \"cat\" picture.\n"
          ]
        },
        {
          "output_type": "display_data",
          "data": {
            "text/plain": [
              "<Figure size 432x288 with 1 Axes>"
            ],
            "image/png": "[encoded data removed]"
          },
          "metadata": {
            "needs_background": "light"
          }
        }
      ]
    },
    {
      "cell_type": "code",
      "source": [
        "# Plot learning curve (with costs)\n",
        "costs = np.squeeze(logistic_regression_model['costs'])\n",
        "plt.plot(costs)\n",
        "plt.ylabel('cost')\n",
        "plt.xlabel('iterations (per hundreds)')\n",
        "plt.title(\"Learning rate =\" + str(logistic_regression_model[\"learning_rate\"]))\n",
        "plt.show()"
      ],
      "metadata": {
        "colab": {
          "base_uri": "https://localhost:8080/",
          "height": 295
        },
        "id": "lms8bmAiCl8L",
        "outputId": "63ed6475-4637-4254-8add-78bf7929fb40"
      },
      "execution_count": null,
      "outputs": [
        {
          "output_type": "display_data",
          "data": {
            "text/plain": [
              "<Figure size 432x288 with 1 Axes>"
            ],
            "image/png": "[encoded data removed]"
          },
          "metadata": {
            "needs_background": "light"
          }
        }
      ]
    },
    {
      "cell_type": "code",
      "source": [
        "# change this to the name of your image file\n",
        "my_image = \"cat.jpg\"   \n",
        "\n",
        "# We preprocess the image to fit your algorithm.\n",
        "fname =  my_image\n",
        "image = np.array(Image.open(fname).resize((num_px, num_px)))\n",
        "plt.imshow(image)\n",
        "image = image / 255.\n",
        "image = image.reshape((1, num_px * num_px * 3)).T\n",
        "my_predicted_image = predict(logistic_regression_model[\"w\"], logistic_regression_model[\"b\"], image)\n",
        "\n",
        "print(\"y = \" + str(np.squeeze(my_predicted_image)) + \", your algorithm predicts a \\\"\" + classes[int(np.squeeze(my_predicted_image)),].decode(\"utf-8\") +  \"\\\" picture.\")"
      ],
      "metadata": {
        "colab": {
          "base_uri": "https://localhost:8080/",
          "height": 285
        },
        "id": "v5jqbCpfCq9I",
        "outputId": "005eee07-2d67-4830-f639-e81cc4ac1259"
      },
      "execution_count": null,
      "outputs": [
        {
          "output_type": "stream",
          "name": "stdout",
          "text": [
            "y = 1.0, your algorithm predicts a \"cat\" picture.\n"
          ]
        },
        {
          "output_type": "display_data",
          "data": {
            "text/plain": [
              "<Figure size 432x288 with 1 Axes>"
            ],
            "image/png": "[encoded data removed]"
          },
          "metadata": {
            "needs_background": "light"
          }
        }
      ]
    }
  ]
}