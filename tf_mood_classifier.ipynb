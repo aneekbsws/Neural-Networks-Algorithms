{
  "nbformat": 4,
  "nbformat_minor": 0,
  "metadata": {
    "colab": {
      "provenance": [],
      "authorship_tag": "ABX9TyMMZ+XNulON0A1IzXHpkU+m",
      "include_colab_link": true
    },
    "kernelspec": {
      "name": "python3",
      "display_name": "Python 3"
    },
    "language_info": {
      "name": "python"
    }
  },
  "cells": [
    {
      "cell_type": "markdown",
      "metadata": {
        "id": "view-in-github",
        "colab_type": "text"
      },
      "source": [
        "<a href=\"https://colab.research.google.com/github/aneekbsws/deeplearning/blob/main/tf_mood_classifier.ipynb\" target=\"_parent\"><img src=\"https://colab.research.google.com/assets/colab-badge.svg\" alt=\"Open In Colab\"/></a>"
      ]
    },
    {
      "cell_type": "markdown",
      "source": [
        "Importing libraries"
      ],
      "metadata": {
        "id": "ZXB-zmjmHUj6"
      }
    },
    {
      "cell_type": "code",
      "execution_count": 2,
      "metadata": {
        "id": "WKxbHseNGwJH"
      },
      "outputs": [],
      "source": [
        "import math\n",
        "import numpy as np\n",
        "import h5py\n",
        "import matplotlib.pyplot as plt\n",
        "from matplotlib.pyplot import imread\n",
        "import scipy\n",
        "from PIL import Image\n",
        "import pandas as pd\n",
        "import tensorflow as tf\n",
        "from tensorflow.python.framework import ops"
      ]
    },
    {
      "cell_type": "markdown",
      "source": [
        "Loading dataset for happy faces"
      ],
      "metadata": {
        "id": "6eMmH1qDHtyP"
      }
    },
    {
      "cell_type": "code",
      "source": [
        "def load_happy_faces():\n",
        "  train_dataset = h5py.File(\"train_happy.h5\",\"r\")\n",
        "  train_set_x_orig = np.array(train_dataset[\"train_set_x\"][:]) # your train set features\n",
        "  train_set_y_orig = np.array(train_dataset[\"train_set_y\"][:]) # your train set labels\n",
        "\n",
        "  test_dataset = h5py.File(\"test_happy.h5\",\"r\")\n",
        "  test_set_x_orig = np.array(test_dataset[\"test_set_x\"][:]) # your test set features\n",
        "  test_set_y_orig = np.array(test_dataset[\"test_set_y\"][:]) # your test set labels\n",
        "\n",
        "  classes = np.array(test_dataset[\"list_classes\"][:])\n",
        "\n",
        "  # print(train_set_y_orig.shape)\n",
        "  train_set_y_orig = train_set_y_orig.reshape((1, train_set_y_orig.shape[0]))\n",
        "  test_set_y_orig = test_set_y_orig.reshape((1, test_set_y_orig.shape[0]))\n",
        "    \n",
        "  return train_set_x_orig, train_set_y_orig, test_set_x_orig, test_set_y_orig, classes"
      ],
      "metadata": {
        "id": "boUe9LS7HUO6"
      },
      "execution_count": 11,
      "outputs": []
    },
    {
      "cell_type": "code",
      "source": [
        "X_train_orig, Y_train_orig, X_test_orig, Y_test_orig, classes = load_happy_faces()\n",
        "X_train = X_train_orig/255\n",
        "X_test = X_test_orig/255\n",
        "\n",
        "print(X_train.shape)\n",
        "# print(Y_train_orig.shape)\n",
        "\n",
        "Y_train = Y_train_orig.T\n",
        "Y_test = Y_test_orig.T\n",
        "\n",
        "print(Y_train.shape)"
      ],
      "metadata": {
        "colab": {
          "base_uri": "https://localhost:8080/"
        },
        "id": "H2rseGc-Ipqb",
        "outputId": "df6c827f-7ff5-4b99-c561-e930742c8b70"
      },
      "execution_count": 12,
      "outputs": [
        {
          "output_type": "stream",
          "name": "stdout",
          "text": [
            "(600, 64, 64, 3)\n",
            "(600, 1)\n"
          ]
        }
      ]
    },
    {
      "cell_type": "markdown",
      "source": [
        "Visualizing a random image"
      ],
      "metadata": {
        "id": "DA0mUESlKow9"
      }
    },
    {
      "cell_type": "code",
      "source": [
        "index = 179\n",
        "plt.imshow(X_train[index])\n",
        "plt.show()"
      ],
      "metadata": {
        "colab": {
          "base_uri": "https://localhost:8080/",
          "height": 268
        },
        "id": "8nbcXdJbKiFp",
        "outputId": "8b67908b-a492-43da-80f4-f4bedc314de6"
      },
      "execution_count": 18,
      "outputs": [
        {
          "output_type": "display_data",
          "data": {
            "text/plain": [
              "<Figure size 432x288 with 1 Axes>"
            ],
            "image/png": "[encoded data removed]"
          },
          "metadata": {
            "needs_background": "light"
          }
        }
      ]
    },
    {
      "cell_type": "markdown",
      "source": [
        "Creating Sequential Model"
      ],
      "metadata": {
        "id": "nY8vBSZNMfq5"
      }
    },
    {
      "cell_type": "code",
      "source": [
        "def happyModel():\n",
        "  model = tf.keras.Sequential([tf.keras.layers.ZeroPadding2D(padding=(3,3), input_shape=(64,64,3), data_format=\"channels_last\"),\n",
        "                               tf.keras.layers.Conv2D(filters = 32, kernel_size=(7,7), strides=1, name=\"conv0\"),\n",
        "                               tf.keras.layers.BatchNormalization(axis=3, name=\"bn0\"),\n",
        "                               tf.keras.layers.ReLU(),\n",
        "                               tf.keras.layers.MaxPool2D(),\n",
        "                               tf.keras.layers.Flatten(),\n",
        "                               tf.keras.layers.Dense(units=1, activation=\"sigmoid\", name=\"fc0\")])\n",
        "  return model"
      ],
      "metadata": {
        "id": "wbogGFgGK6f6"
      },
      "execution_count": 21,
      "outputs": []
    },
    {
      "cell_type": "code",
      "source": [
        "happy_model = happyModel()"
      ],
      "metadata": {
        "id": "klyEHFakRjef"
      },
      "execution_count": 22,
      "outputs": []
    },
    {
      "cell_type": "code",
      "source": [
        "happy_model.compile(optimizer=\"adam\", loss=\"binary_crossentropy\", metrics=['accuracy'])"
      ],
      "metadata": {
        "id": "1EAGApNQR6J8"
      },
      "execution_count": 24,
      "outputs": []
    },
    {
      "cell_type": "code",
      "source": [
        "happy_model.summary()"
      ],
      "metadata": {
        "colab": {
          "base_uri": "https://localhost:8080/"
        },
        "id": "v2Qy2P5iSKVn",
        "outputId": "4b72fdab-944f-4730-f7d5-2b371cd364d4"
      },
      "execution_count": 25,
      "outputs": [
        {
          "output_type": "stream",
          "name": "stdout",
          "text": [
            "Model: \"sequential\"\n",
            "_________________________________________________________________\n",
            " Layer (type)                Output Shape              Param #   \n",
            "=================================================================\n",
            " zero_padding2d_1 (ZeroPaddi  (None, 70, 70, 3)        0         \n",
            " ng2D)                                                           \n",
            "                                                                 \n",
            " conv0 (Conv2D)              (None, 64, 64, 32)        4736      \n",
            "                                                                 \n",
            " bn0 (BatchNormalization)    (None, 64, 64, 32)        128       \n",
            "                                                                 \n",
            " re_lu (ReLU)                (None, 64, 64, 32)        0         \n",
            "                                                                 \n",
            " max_pooling2d (MaxPooling2D  (None, 32, 32, 32)       0         \n",
            " )                                                               \n",
            "                                                                 \n",
            " flatten (Flatten)           (None, 32768)             0         \n",
            "                                                                 \n",
            " fc0 (Dense)                 (None, 1)                 32769     \n",
            "                                                                 \n",
            "=================================================================\n",
            "Total params: 37,633\n",
            "Trainable params: 37,569\n",
            "Non-trainable params: 64\n",
            "_________________________________________________________________\n"
          ]
        }
      ]
    },
    {
      "cell_type": "code",
      "source": [
        "happy_model.fit(X_train, Y_train, batch_size=16, epochs=10)"
      ],
      "metadata": {
        "colab": {
          "base_uri": "https://localhost:8080/"
        },
        "id": "69B41b95Sn17",
        "outputId": "433b1d25-77a8-41b8-dc2e-10cfe7ca1f52"
      },
      "execution_count": 26,
      "outputs": [
        {
          "output_type": "stream",
          "name": "stdout",
          "text": [
            "Epoch 1/10\n",
            "38/38 [==============================] - 4s 94ms/step - loss: 1.3310 - accuracy: 0.7000\n",
            "Epoch 2/10\n",
            "38/38 [==============================] - 4s 93ms/step - loss: 0.2034 - accuracy: 0.9117\n",
            "Epoch 3/10\n",
            "38/38 [==============================] - 4s 94ms/step - loss: 0.1785 - accuracy: 0.9283\n",
            "Epoch 4/10\n",
            "38/38 [==============================] - 4s 93ms/step - loss: 0.1325 - accuracy: 0.9433\n",
            "Epoch 5/10\n",
            "38/38 [==============================] - 4s 93ms/step - loss: 0.0897 - accuracy: 0.9733\n",
            "Epoch 6/10\n",
            "38/38 [==============================] - 4s 94ms/step - loss: 0.1303 - accuracy: 0.9550\n",
            "Epoch 7/10\n",
            "38/38 [==============================] - 3s 92ms/step - loss: 0.1965 - accuracy: 0.9267\n",
            "Epoch 8/10\n",
            "38/38 [==============================] - 4s 92ms/step - loss: 0.1221 - accuracy: 0.9633\n",
            "Epoch 9/10\n",
            "38/38 [==============================] - 3s 92ms/step - loss: 0.1060 - accuracy: 0.9583\n",
            "Epoch 10/10\n",
            "38/38 [==============================] - 3s 92ms/step - loss: 0.0679 - accuracy: 0.9783\n"
          ]
        },
        {
          "output_type": "execute_result",
          "data": {
            "text/plain": [
              "<keras.callbacks.History at 0x7fb7c79447d0>"
            ]
          },
          "metadata": {},
          "execution_count": 26
        }
      ]
    },
    {
      "cell_type": "code",
      "source": [
        "happy_model.evaluate(X_test, Y_test)"
      ],
      "metadata": {
        "colab": {
          "base_uri": "https://localhost:8080/"
        },
        "id": "v3pcGOkoS_g2",
        "outputId": "30817bc0-6e65-4a83-aabb-7cc319194ecc"
      },
      "execution_count": 28,
      "outputs": [
        {
          "output_type": "stream",
          "name": "stdout",
          "text": [
            "5/5 [==============================] - 0s 46ms/step - loss: 0.3118 - accuracy: 0.8600\n"
          ]
        },
        {
          "output_type": "execute_result",
          "data": {
            "text/plain": [
              "[0.31181204319000244, 0.8600000143051147]"
            ]
          },
          "metadata": {},
          "execution_count": 28
        }
      ]
    }
  ]
}