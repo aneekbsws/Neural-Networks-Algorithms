{
  "nbformat": 4,
  "nbformat_minor": 0,
  "metadata": {
    "colab": {
      "name": "deep-nn-algorithm.ipynb",
      "provenance": [],
      "authorship_tag": "ABX9TyMDloKVuNvx6Lr6eKrl6sCt",
      "include_colab_link": true
    },
    "kernelspec": {
      "name": "python3",
      "display_name": "Python 3"
    },
    "language_info": {
      "name": "python"
    }
  },
  "cells": [
    {
      "cell_type": "markdown",
      "metadata": {
        "id": "view-in-github",
        "colab_type": "text"
      },
      "source": [
        "<a href=\"https://colab.research.google.com/github/aneekbsws/deeplearning/blob/main/deep_nn_algorithm.ipynb\" target=\"_parent\"><img src=\"https://colab.research.google.com/assets/colab-badge.svg\" alt=\"Open In Colab\"/></a>"
      ]
    },
    {
      "cell_type": "code",
      "source": [
        "import numpy as np\n",
        "import h5py\n",
        "import matplotlib.pyplot as plt"
      ],
      "metadata": {
        "id": "resk23izNToP"
      },
      "execution_count": null,
      "outputs": []
    },
    {
      "cell_type": "markdown",
      "source": [
        "#Some pre-processing#"
      ],
      "metadata": {
        "id": "5xEt_5nCM1Ii"
      }
    },
    {
      "cell_type": "markdown",
      "source": [
        "Sigmoid and RELU Functions"
      ],
      "metadata": {
        "id": "Fy8TOqIgM40n"
      }
    },
    {
      "cell_type": "code",
      "execution_count": null,
      "metadata": {
        "id": "i92Q5PE_MpKE"
      },
      "outputs": [],
      "source": [
        "def sigmoid(Z):\n",
        "  A = 1/(1+np.exp(-Z))\n",
        "  cache = Z # Storing Z as a cache (to help moving forward)\n",
        "  return A,cache\n",
        "\n",
        "def relu(Z):\n",
        "  A = np.maximum(0,Z)\n",
        "  cache = Z  # Storing Z as a cache (to help moving forward)\n",
        "  return A,cache"
      ]
    },
    {
      "cell_type": "markdown",
      "source": [
        "Derivatives of the sigmoid and relu functions (g'(Z))"
      ],
      "metadata": {
        "id": "H_pR_rAYNirf"
      }
    },
    {
      "cell_type": "code",
      "source": [
        "def dg_sigmoid(dA, cache):\n",
        "  Z = cache # Since cache has only Z\n",
        "  S = 1/(1+np.exp(-Z))\n",
        "  dZ = dA *S*(1 - S)   \n",
        "  return dZ\n",
        "\n",
        "def dg_relu(dA, cache):\n",
        "  Z = cache  # Since cache has only Z\n",
        "  dZ = np.array(dA, copy=True)\n",
        "  dZ[Z<=0] = 0\n",
        "  return dZ"
      ],
      "metadata": {
        "id": "ae8CZEj1Nh5W"
      },
      "execution_count": null,
      "outputs": []
    },
    {
      "cell_type": "markdown",
      "source": [
        "#Setting up the stage#"
      ],
      "metadata": {
        "id": "XyBOMOoYqPZk"
      }
    },
    {
      "cell_type": "markdown",
      "source": [
        "Initializing the initial parameters (w,b)"
      ],
      "metadata": {
        "id": "FOXBoNZxqTHt"
      }
    },
    {
      "cell_type": "code",
      "source": [
        "def initialize_parameters(n_x, n_h, n_y):\n",
        "  W1 = np.random.randn(n_h, n_x)*0.01\n",
        "  b1 = np.zeros((n_h,1))\n",
        "  W2 = np.random.randn(n_y, n_h)*0.01\n",
        "  b2 = np.zeros((n_y,1))\n",
        "  parameters = {\"W1\":W1, \"b1\":b1, \"W2\":W2, \"b2\":b2}\n",
        "  return parameters"
      ],
      "metadata": {
        "id": "tuFfANvSqOyF"
      },
      "execution_count": null,
      "outputs": []
    },
    {
      "cell_type": "markdown",
      "source": [
        "Initializing the parameters (W,b) for inner layers"
      ],
      "metadata": {
        "id": "xf5tYrS9r5L5"
      }
    },
    {
      "cell_type": "code",
      "source": [
        "def initialize_inner_parameters(layers_dim):\n",
        "    #layers_dim is the number of hidden layers [n_1 n_2 n_3 n_4...n_L] where each\n",
        "    #n_l corresponds to number of units in each layer\n",
        "  parameters = {} \n",
        "    #Parameters in the initialize_parameters function was used to\n",
        "    #hold W1, b1, W2, b2\n",
        "  L = len(layers_dim)\n",
        "  for l in range(1,L): \n",
        "    parameters[\"W\"+str(l)] = np.random.randn(layers_dim[l],layers_dim[l-1])/np.sqrt(layers_dim[l-1])\n",
        "    parameters[\"b\"+str(l)] = np.zeros((layers_dim[l],1))\n",
        "  return parameters"
      ],
      "metadata": {
        "id": "eh1WTEI6Ndu0"
      },
      "execution_count": null,
      "outputs": []
    },
    {
      "cell_type": "markdown",
      "source": [
        "#Forward Propagation Functions#"
      ],
      "metadata": {
        "id": "LB8yYXIttyfH"
      }
    },
    {
      "cell_type": "markdown",
      "source": [
        "***Linear and activation (relu/sigmoid) for L-1 layers and a sigmoid for Lth (last) layer***"
      ],
      "metadata": {
        "id": "G5PW1m04t17r"
      }
    },
    {
      "cell_type": "markdown",
      "source": [
        "Linear Function"
      ],
      "metadata": {
        "id": "i9O8OCwAuamy"
      }
    },
    {
      "cell_type": "code",
      "source": [
        "def forward_prop_single_linear(A,W,b):\n",
        "  Z = np.dot(W,A)+b\n",
        "  cache = (A,W,b) #Storing the A, W and b for backward propagation as list\n",
        "  return Z, cache"
      ],
      "metadata": {
        "id": "4vatsgjFtyHD"
      },
      "execution_count": null,
      "outputs": []
    },
    {
      "cell_type": "markdown",
      "source": [
        "Fetching the linear result and applying activation function onto it"
      ],
      "metadata": {
        "id": "r2uz-uAguTg0"
      }
    },
    {
      "cell_type": "code",
      "source": [
        "def forward_prop_single_activation(A_prev, W, b, activation):\n",
        "  if activation == 'relu':\n",
        "    Z, linear_cache = forward_prop_single_linear(A_prev, W,b) #Linear_Cache stores the Z used in linear function\n",
        "    A, activation_cache = relu(Z) #Activation_Cache stores the Z used in activation function\n",
        "  elif activation == 'sigmoid':\n",
        "    Z, linear_cache = forward_prop_single_linear(A_prev, W,b) #Linear_Cache stores the A,W,B used in linear function\n",
        "    A, activation_cache = sigmoid(Z) #Activation_Cache stores the Z used in activation function    \n",
        "  cache = (linear_cache, activation_cache)\n",
        "  return A, cache"
      ],
      "metadata": {
        "id": "Ak-brGuDtqDh"
      },
      "execution_count": null,
      "outputs": []
    },
    {
      "cell_type": "markdown",
      "source": [
        "Implementing these two functions across L number of layers"
      ],
      "metadata": {
        "id": "OfdeHEsCv66j"
      }
    },
    {
      "cell_type": "code",
      "source": [
        "def foward_prop_Llayers(X, parameters):\n",
        "  caches = [] # A list containing (linear_cache(A,W,B), activation_cache(Z)) of every layer going forward\n",
        "  A = X #Initially, A[0] is nothing but the input itself.\n",
        "  L = len(parameters)//2 #Floor division #Since parameters is a dictionary containing W and b values for all layers\n",
        "  for l in range(1,L):\n",
        "    A_prev = A\n",
        "    A, cache = forward_prop_single_activation(A_prev, parameters[\"W\"+str(l)], parameters[\"b\"+str(l)], activation = 'relu')\n",
        "    caches.append(cache)\n",
        "  # Now for the very last hidden - output connection - applying a sigmoid function\n",
        "  AL, cache = forward_prop_single_activation(A, parameters[\"W\"+str(L)], parameters[\"b\"+str(L)], activation = 'sigmoid')\n",
        "  caches.append(cache)\n",
        "  return AL, caches"
      ],
      "metadata": {
        "id": "c3F_k6IKv_xG"
      },
      "execution_count": null,
      "outputs": []
    },
    {
      "cell_type": "markdown",
      "source": [
        "Finding the cost"
      ],
      "metadata": {
        "id": "rgMG5BfMxz_q"
      }
    },
    {
      "cell_type": "code",
      "source": [
        "def compute_cost(AL, Y):\n",
        "  m = Y.shape[1]\n",
        "  cost = cost = (1./m) * (-np.dot(Y,np.log(AL).T) - np.dot(1-Y, np.log(1-AL).T))\n",
        "  cost = np.squeeze(cost) #np.squeeze converts [[x]] into x\n",
        "  return cost"
      ],
      "metadata": {
        "id": "4QbpKPcdx1sQ"
      },
      "execution_count": null,
      "outputs": []
    },
    {
      "cell_type": "markdown",
      "source": [
        "# Backward Propagation Functions#"
      ],
      "metadata": {
        "id": "YSp2YXGUyYen"
      }
    },
    {
      "cell_type": "markdown",
      "source": [
        " ***Linear and activation (relu/sigmoid) for L-1 layers and a sigmoid for Lth (last)***"
      ],
      "metadata": {
        "id": "AbMFmh_Hya-B"
      }
    },
    {
      "cell_type": "markdown",
      "source": [
        "Linear Function using dZ to find dA, dW, db"
      ],
      "metadata": {
        "id": "F7xYvIdGymBZ"
      }
    },
    {
      "cell_type": "code",
      "source": [
        "def backward_prop_single_linear(dZ, cache):\n",
        "  #cache here is the cache of the linear backward propagation\n",
        "  A_prev, W, b = cache[0]\n",
        "  m = A_prev.shape[1]\n",
        "  dW = 1./m * np.dot(dZ,A_prev.T)\n",
        "  db = 1./m * np.sum(dZ, axis = 1, keepdims = True)\n",
        "  dA_prev = np.dot(W.T,dZ)\n",
        "  return dA_prev, dW, db "
      ],
      "metadata": {
        "id": "b6KI-bhDyl0k"
      },
      "execution_count": null,
      "outputs": []
    },
    {
      "cell_type": "markdown",
      "source": [
        "Including activation function's derivative and hence, finding dZ - using it to find dA, dW, db"
      ],
      "metadata": {
        "id": "WYPHfwdzzxbI"
      }
    },
    {
      "cell_type": "code",
      "source": [
        "def backward_prop_single_activation(dA, cache, activation):\n",
        "  # here cache is the (linear_cache (A,w,b) and activation_cache(Z))\n",
        "  linear_cache, activation_cache = cache\n",
        "  if activation == 'relu':\n",
        "    dZ = dg_relu(dA, activation_cache)\n",
        "    dA_prev, dW, db = backward_prop_single_linear(dZ, cache)\n",
        "  elif activation == 'sigmoid':\n",
        "    dZ = dg_sigmoid(dA, activation_cache)\n",
        "    dA_prev, dW, db = backward_prop_single_linear(dZ, cache)\n",
        "  return dA_prev, dW, db"
      ],
      "metadata": {
        "id": "j11ZbMBhzykb"
      },
      "execution_count": null,
      "outputs": []
    },
    {
      "cell_type": "markdown",
      "source": [
        "Implementing these two functions across L number of layers"
      ],
      "metadata": {
        "id": "KgaDHVFHaJOr"
      }
    },
    {
      "cell_type": "code",
      "source": [
        "def backward_prop_Llayer(AL, Y, caches):\n",
        "  # cache = (linear_cache, activation_cache) of each and every layer\n",
        "  # Each cache of each layer is a tuple of tuples = ((A,W,b),Z)\n",
        "  grads = {}\n",
        "  L = len(caches) \n",
        "  m = AL.shape[1] # AL is in shape (n_h, m)\n",
        "  Y = Y.reshape(AL.shape) # Just ensuring they are of same shape\n",
        "  current_caches = caches[L-1] # caches[L-1] is the tuple for last layer \n",
        "  dAL = -(np.divide(Y,AL) - np.divide(1-Y, 1-AL)) # Finding the initial dAL\n",
        "  da_prev_temp, dW_temp, db_temp = backward_prop_single_activation(dAL, current_caches,activation = 'sigmoid') # Finding dA(L-1), dWL, dbL, dZL \n",
        "  grads[\"dA\"+str(L-1)] = da_prev_temp \n",
        "  grads[\"dW\"+str(L)] = dW_temp\n",
        "  grads[\"db\"+str(L)] = db_temp\n",
        "  for l in reversed(range(L-1)):\n",
        "    current_caches = caches[l] # Setting each corresponding cache to a dummy tuple\n",
        "    dA_prev_temp, dW_temp, db_temp = backward_prop_single_activation(grads[\"dA\"+str(l+1)], current_caches, activation = 'relu') #caches\n",
        "    grads[\"dA\"+str(l)] = dA_prev_temp\n",
        "    grads[\"dW\"+str(l+1)] = dW_temp\n",
        "    grads[\"db\"+str(l+1)] = db_temp\n",
        "  return grads"
      ],
      "metadata": {
        "id": "qVj035gezpv3"
      },
      "execution_count": null,
      "outputs": []
    },
    {
      "cell_type": "markdown",
      "source": [
        "Updating the parameters"
      ],
      "metadata": {
        "id": "XCVE_EaknCQx"
      }
    },
    {
      "cell_type": "code",
      "source": [
        "def update_parameters(params, grads,learning_rate):\n",
        "  parameters = params.copy() # These are the initially assigned W and b\n",
        "  L = len(parameters)//2\n",
        "  for l in range(L):\n",
        "    parameters[\"W\"+str(l+1)] =  parameters[\"W\"+str(l+1)] - (learning_rate*grads[\"dW\"+str(l+1)])\n",
        "    parameters[\"b\"+str(l+1)] =  parameters[\"b\"+str(l+1)] - (learning_rate*grads[\"db\"+str(l+1)])\n",
        "  return parameters"
      ],
      "metadata": {
        "id": "NOZjX8VGnDyl"
      },
      "execution_count": null,
      "outputs": []
    },
    {
      "cell_type": "markdown",
      "source": [
        "#Predicting images\n",
        "\n"
      ],
      "metadata": {
        "id": "wK7zC52tOpoX"
      }
    },
    {
      "cell_type": "markdown",
      "source": [
        "Loading data"
      ],
      "metadata": {
        "id": "efPJdNrhNdr6"
      }
    },
    {
      "cell_type": "code",
      "source": [
        "def load_data():\n",
        "    train_dataset = h5py.File('train_catvnoncat_NN.h5', \"r\")\n",
        "    train_set_x_orig = np.array(train_dataset[\"train_set_x\"][:]) # your train set features\n",
        "    train_set_y_orig = np.array(train_dataset[\"train_set_y\"][:]) # your train set labels\n",
        "\n",
        "    test_dataset = h5py.File('test_catvnoncat_NN.h5', \"r\")\n",
        "    test_set_x_orig = np.array(test_dataset[\"test_set_x\"][:]) # your test set features\n",
        "    test_set_y_orig = np.array(test_dataset[\"test_set_y\"][:]) # your test set labels\n",
        "\n",
        "    classes = np.array(test_dataset[\"list_classes\"][:]) # the list of classes\n",
        "    \n",
        "    train_set_y_orig = train_set_y_orig.reshape((1, train_set_y_orig.shape[0]))\n",
        "    test_set_y_orig = test_set_y_orig.reshape((1, test_set_y_orig.shape[0]))\n",
        "    \n",
        "    return train_set_x_orig, train_set_y_orig, test_set_x_orig, test_set_y_orig, classes"
      ],
      "metadata": {
        "id": "RFimT_dqNe68"
      },
      "execution_count": null,
      "outputs": []
    },
    {
      "cell_type": "code",
      "source": [
        "X_train, y_train, X_test, y_test, classes = load_data()"
      ],
      "metadata": {
        "id": "54ISa6nmOVzB"
      },
      "execution_count": null,
      "outputs": []
    },
    {
      "cell_type": "markdown",
      "source": [
        "Exploring dataset"
      ],
      "metadata": {
        "id": "xMxdbaX4OnDZ"
      }
    },
    {
      "cell_type": "code",
      "source": [
        "print(X_train.shape)\n",
        "m_train = X_train.shape[0] # Number of training examples\n",
        "num_px = X_train.shape[1] # Number of parameters\n",
        "m_test = X_test.shape[0]\n",
        "print(\"Number of training examples : \",m_train)\n",
        "print(\"Number of parameters : \",num_px)\n",
        "print(\"Number of test examples : \",m_test)"
      ],
      "metadata": {
        "colab": {
          "base_uri": "https://localhost:8080/"
        },
        "id": "P3IWh6uwOhvu",
        "outputId": "092091c7-81fa-432c-ef14-35d0f85de08e"
      },
      "execution_count": null,
      "outputs": [
        {
          "output_type": "stream",
          "name": "stdout",
          "text": [
            "(209, 64, 64, 3)\n",
            "Number of training examples :  209\n",
            "Number of parameters :  64\n",
            "Number of test examples :  50\n"
          ]
        }
      ]
    },
    {
      "cell_type": "markdown",
      "source": [
        "Reshaping the training and test sets"
      ],
      "metadata": {
        "id": "jADnEZusPW0Q"
      }
    },
    {
      "cell_type": "code",
      "source": [
        "# Currently the sets are in shape (m_train, num_px, num_px, 3). it now needs to be (num_px^2*3,m_train)\n",
        "X_train_flatten = X_train.reshape(X_train.shape[0], -1).T \n",
        "# Converts it to (m_train, num_px^2*3). -1 is used to flatten the remaining dimensions\n",
        "X_test_flatten = X_test.reshape(X_test.shape[0], -1).T\n",
        "X_train_final = X_train_flatten/255.\n",
        "X_test_final = X_test_flatten/255.\n",
        "print(X_train_final.shape)\n",
        "print(X_test_final.shape)"
      ],
      "metadata": {
        "colab": {
          "base_uri": "https://localhost:8080/"
        },
        "id": "9PaBsxaEPTWE",
        "outputId": "23894049-4d4d-4a20-f449-5beb8687cc18"
      },
      "execution_count": null,
      "outputs": [
        {
          "output_type": "stream",
          "name": "stdout",
          "text": [
            "(12288, 209)\n",
            "(12288, 50)\n"
          ]
        }
      ]
    },
    {
      "cell_type": "markdown",
      "source": [
        "Constants defining the model"
      ],
      "metadata": {
        "id": "hdMlGdiOQ6SV"
      }
    },
    {
      "cell_type": "code",
      "source": [
        "n_x = X_train_flatten.shape[0]\n",
        "n_h = 7\n",
        "n_y = 1\n",
        "layers_dim = (n_x, n_h, n_y)\n",
        "print(layers_dim)\n",
        "learning_rate = 0.0075"
      ],
      "metadata": {
        "colab": {
          "base_uri": "https://localhost:8080/"
        },
        "id": "h7_w1gBqQovu",
        "outputId": "c2e8c9d9-bac3-46ed-e14a-651a59268e06"
      },
      "execution_count": null,
      "outputs": [
        {
          "output_type": "stream",
          "name": "stdout",
          "text": [
            "(12288, 7, 1)\n"
          ]
        }
      ]
    },
    {
      "cell_type": "markdown",
      "source": [
        "Experimenting a 2-Layer NN"
      ],
      "metadata": {
        "id": "pRM0Fe1mS1iC"
      }
    },
    {
      "cell_type": "code",
      "source": [
        "def two_layer_nn(X,Y, layers_dim, num_iterations, print_cost):\n",
        "  \n",
        "  grads = {}\n",
        "  costs = []\n",
        "  m = X.shape[1]\n",
        "  (n_x, n_h, n_y) = layers_dim\n",
        "  print(layers_dim)\n",
        "  # print(\"n_x\",n_x)\n",
        "  # print(\"n_h\",n_h)\n",
        "  # print(\"n_y\",n_y)\n",
        "  parameters = initialize_parameters(n_x, n_h, n_y)\n",
        "  # print(parameters)\n",
        "  W1 = parameters[\"W1\"]\n",
        "  b1 = parameters[\"b1\"]\n",
        "  W2 = parameters[\"W2\"]\n",
        "  b2 = parameters[\"b2\"]\n",
        "  print(\"X:\",X.shape)\n",
        "  print(\"W1:\", W1.shape)\n",
        "  print(\"W2:\", W2.shape)\n",
        "  print(\"b1:\", b1.shape)\n",
        "  print(\"b2:\", b2.shape)\n",
        "  print(\"Y:\",Y.shape)\n",
        "  # Looping through\n",
        "  for i in range(0, num_iterations):\n",
        "    \n",
        "    #Forward propagation\n",
        "    A1, cache1 =  forward_prop_single_activation(X, W1, b1, activation = 'relu')\n",
        "    A2, cache2 =  forward_prop_single_activation(A1, W2, b2, activation = 'sigmoid')\n",
        "    cost = compute_cost(A2, Y)\n",
        "    \n",
        "    #Backward propagation\n",
        "    dA2 = -(np.divide(Y,A2) - np.divide(1-Y,1-A2))\n",
        "    dA1, dW2, db2 = backward_prop_single_activation(dA2, cache2, 'sigmoid')\n",
        "    dA0, dW1, db1 = backward_prop_single_activation(dA1, cache1, 'relu')\n",
        "    grads[\"dW1\"] = dW1\n",
        "    grads[\"db1\"] = db1\n",
        "    grads[\"dW2\"] = dW2\n",
        "    grads[\"db2\"] = db2\n",
        "    parameters = update_parameters(parameters, grads, learning_rate)\n",
        "    W1 = parameters[\"W1\"]\n",
        "    b1 = parameters[\"b1\"]\n",
        "    W2 = parameters[\"W2\"]\n",
        "    b2 = parameters[\"b2\"]\n",
        "    if print_cost and i % 100 == 0 or i == num_iterations - 1:\n",
        "      # print(X.shape)\n",
        "      # print(Y.shape)\n",
        "      # print(A1)\n",
        "      print(\"ITERATION :::: \",i)\n",
        "      print(\"Cost after iteration {}: {}\".format(i, cost))\n",
        "      # print(parameters)\n",
        "      # print(W1.shape, \"; \",W2.shape)\n",
        "    if i % 100 == 0 or i == num_iterations:\n",
        "      costs.append(cost)\n",
        "  return parameters,costs"
      ],
      "metadata": {
        "id": "fTRKTfZeRJUB"
      },
      "execution_count": null,
      "outputs": []
    },
    {
      "cell_type": "code",
      "source": [
        "print(n_x)\n",
        "print(n_h)\n",
        "print(n_y)"
      ],
      "metadata": {
        "colab": {
          "base_uri": "https://localhost:8080/"
        },
        "id": "J55Qlh7nMrzY",
        "outputId": "5763f9e1-767b-4a8d-bf08-6435b9bd5f85"
      },
      "execution_count": null,
      "outputs": [
        {
          "output_type": "stream",
          "name": "stdout",
          "text": [
            "12288\n",
            "7\n",
            "1\n"
          ]
        }
      ]
    },
    {
      "cell_type": "code",
      "source": [
        "def plot_costs(costs, learning_rate=0.0075):\n",
        "    plt.plot(np.squeeze(costs))\n",
        "    plt.ylabel('cost')\n",
        "    plt.xlabel('iterations (per hundreds)')\n",
        "    plt.title(\"Learning rate =\" + str(learning_rate))\n",
        "    plt.show()"
      ],
      "metadata": {
        "id": "Olm0ux--X6Zw"
      },
      "execution_count": null,
      "outputs": []
    },
    {
      "cell_type": "markdown",
      "source": [
        "Training the model"
      ],
      "metadata": {
        "id": "qRO3NlNUXgnh"
      }
    },
    {
      "cell_type": "code",
      "source": [
        "parameters, costs = two_layer_nn(X_train_final, y_train, layers_dim=(n_x, n_h, n_y), num_iterations=2500, print_cost=True)\n",
        "plot_costs(costs, learning_rate)"
      ],
      "metadata": {
        "colab": {
          "base_uri": "https://localhost:8080/",
          "height": 1000
        },
        "id": "vod2U_LeXh-F",
        "outputId": "82e4e2dd-240f-420b-8be2-1d7aa803c522"
      },
      "execution_count": null,
      "outputs": [
        {
          "output_type": "stream",
          "name": "stdout",
          "text": [
            "(12288, 7, 1)\n",
            "X: (12288, 209)\n",
            "W1: (7, 12288)\n",
            "W2: (1, 7)\n",
            "b1: (7, 1)\n",
            "b2: (1, 1)\n",
            "Y: (1, 209)\n",
            "ITERATION ::::  0\n",
            "Cost after iteration 0: 0.6909088566164634\n",
            "ITERATION ::::  100\n",
            "Cost after iteration 100: 0.6474611745084954\n",
            "ITERATION ::::  200\n",
            "Cost after iteration 200: 0.6352352419024014\n",
            "ITERATION ::::  300\n",
            "Cost after iteration 300: 0.6071590105200444\n",
            "ITERATION ::::  400\n",
            "Cost after iteration 400: 0.5683119565815855\n",
            "ITERATION ::::  500\n",
            "Cost after iteration 500: 0.5277459857226342\n",
            "ITERATION ::::  600\n",
            "Cost after iteration 600: 0.485785548804639\n",
            "ITERATION ::::  700\n",
            "Cost after iteration 700: 0.4472975706579854\n",
            "ITERATION ::::  800\n",
            "Cost after iteration 800: 0.39889816392500177\n",
            "ITERATION ::::  900\n",
            "Cost after iteration 900: 0.3785097844939123\n",
            "ITERATION ::::  1000\n",
            "Cost after iteration 1000: 0.36705757469953004\n",
            "ITERATION ::::  1100\n",
            "Cost after iteration 1100: 0.32978824504535614\n",
            "ITERATION ::::  1200\n",
            "Cost after iteration 1200: 0.29637899570716014\n",
            "ITERATION ::::  1300\n",
            "Cost after iteration 1300: 0.24252566317513774\n",
            "ITERATION ::::  1400\n",
            "Cost after iteration 1400: 0.24921781487967803\n",
            "ITERATION ::::  1500\n",
            "Cost after iteration 1500: 0.23490823267687172\n",
            "ITERATION ::::  1600\n",
            "Cost after iteration 1600: 0.1668120396274354\n",
            "ITERATION ::::  1700\n",
            "Cost after iteration 1700: 0.12984522570280238\n",
            "ITERATION ::::  1800\n",
            "Cost after iteration 1800: 0.11396597033794299\n",
            "ITERATION ::::  1900\n",
            "Cost after iteration 1900: 0.5570766023615781\n",
            "ITERATION ::::  2000\n",
            "Cost after iteration 2000: 0.08570069137655704\n",
            "ITERATION ::::  2100\n",
            "Cost after iteration 2100: 0.07424525823012741\n",
            "ITERATION ::::  2200\n",
            "Cost after iteration 2200: 0.0649932353493076\n",
            "ITERATION ::::  2300\n",
            "Cost after iteration 2300: 0.05757115227706154\n",
            "ITERATION ::::  2400\n",
            "Cost after iteration 2400: 0.05081381362916461\n",
            "ITERATION ::::  2499\n",
            "Cost after iteration 2499: 0.044933204579279434\n"
          ]
        },
        {
          "output_type": "display_data",
          "data": {
            "text/plain": [
              "<Figure size 432x288 with 1 Axes>"
            ],
            "image/png": "[encoded data removed]"
          },
          "metadata": {
            "needs_background": "light"
          }
        }
      ]
    },
    {
      "cell_type": "markdown",
      "source": [
        "Predicting result:"
      ],
      "metadata": {
        "id": "f-9Z2fklYfwY"
      }
    },
    {
      "cell_type": "code",
      "source": [
        "def predict(X,y,parameters):\n",
        "  m = X.shape[1]\n",
        "  n = len(parameters)//2\n",
        "  print(n)\n",
        "  p = np.zeros((1,m))\n",
        "  AL, caches = foward_prop_Llayers(X, parameters)\n",
        "  for i in range(0, AL.shape[1]):\n",
        "    if(AL[0,i] > 0.5):\n",
        "      p[0,i] = 1\n",
        "    else:\n",
        "      p[0,i] = 0\n",
        "  print(p)\n",
        "  print(y)\n",
        "  print(\"Accuracy: \"+str(np.sum((p==y)/m)))\n",
        "  return p"
      ],
      "metadata": {
        "id": "CV0_fXw0Yhan"
      },
      "execution_count": null,
      "outputs": []
    },
    {
      "cell_type": "code",
      "source": [
        "prediction_train = predict(X_train_final, y_train, parameters)"
      ],
      "metadata": {
        "colab": {
          "base_uri": "https://localhost:8080/"
        },
        "id": "92aZCOdOjyXT",
        "outputId": "507a9c56-6d0c-4e8f-9a45-b80e5887c316"
      },
      "execution_count": null,
      "outputs": [
        {
          "output_type": "stream",
          "name": "stdout",
          "text": [
            "2\n",
            "Accuracy: 0.9999999999999998\n"
          ]
        }
      ]
    },
    {
      "cell_type": "code",
      "source": [
        "prediction_test = predict(X_test_final, y_test, parameters)"
      ],
      "metadata": {
        "colab": {
          "base_uri": "https://localhost:8080/"
        },
        "id": "Nl3PzHUQZYt0",
        "outputId": "28f13b22-0206-4361-98c4-156ca7554932"
      },
      "execution_count": null,
      "outputs": [
        {
          "output_type": "stream",
          "name": "stdout",
          "text": [
            "2\n",
            "Accuracy: 0.66\n"
          ]
        }
      ]
    },
    {
      "cell_type": "markdown",
      "source": [
        "#Implementing the same solution with a 4-layer model#"
      ],
      "metadata": {
        "id": "3E0Nwku0cg6g"
      }
    },
    {
      "cell_type": "markdown",
      "source": [
        "Function for L-layer model"
      ],
      "metadata": {
        "id": "f7p6Rb9FcmIc"
      }
    },
    {
      "cell_type": "code",
      "source": [
        "def L_Layer_model(X,Y, layers_dims, num_iterations, print_cost):\n",
        "  costs = []\n",
        "  parameters = initialize_inner_parameters(layers_dim=layers_dims)\n",
        "  for i in range(0, num_iterations):\n",
        "    AL, caches = foward_prop_Llayers(X, parameters)\n",
        "    cost = compute_cost(AL, Y)\n",
        "    grads = backward_prop_Llayer(AL, Y, caches)\n",
        "    parameters = update_parameters(parameters, grads,learning_rate)\n",
        "    if print_cost and i % 100 == 0 or i == num_iterations - 1:\n",
        "      print(\"Cost after iteration {}: {}\".format(i, np.squeeze(cost)))\n",
        "    if i % 100 == 0 or i == num_iterations:\n",
        "      costs.append(cost)\n",
        "  return parameters, costs"
      ],
      "metadata": {
        "id": "afe7N_cCcqLE"
      },
      "execution_count": null,
      "outputs": []
    },
    {
      "cell_type": "code",
      "source": [
        "layers_dims = [12288, 20, 7, 5, 1]"
      ],
      "metadata": {
        "id": "g6HePkkDhr5k"
      },
      "execution_count": null,
      "outputs": []
    },
    {
      "cell_type": "code",
      "source": [
        "parameters, costs = L_Layer_model(X_train_final, y_train, layers_dims,num_iterations=3000,print_cost=True)"
      ],
      "metadata": {
        "colab": {
          "base_uri": "https://localhost:8080/"
        },
        "id": "JeHODdCHgyy_",
        "outputId": "4e2f10d8-43ec-459a-ad44-277436f17e52"
      },
      "execution_count": null,
      "outputs": [
        {
          "output_type": "stream",
          "name": "stdout",
          "text": [
            "Cost after iteration 0: 0.6774649326723386\n",
            "Cost after iteration 100: 0.5499418529141228\n",
            "Cost after iteration 200: 0.48375333136343723\n",
            "Cost after iteration 300: 0.4200128904435797\n",
            "Cost after iteration 400: 0.32237636405572534\n",
            "Cost after iteration 500: 0.3008426469410233\n",
            "Cost after iteration 600: 0.1724397180943504\n",
            "Cost after iteration 700: 0.10638211028222186\n",
            "Cost after iteration 800: 0.07936559959584792\n",
            "Cost after iteration 900: 0.053753644492001706\n",
            "Cost after iteration 1000: 0.08389555186169348\n",
            "Cost after iteration 1100: 0.04719671049995895\n",
            "Cost after iteration 1200: 0.027894610535444193\n",
            "Cost after iteration 1300: 0.01995389324080253\n",
            "Cost after iteration 1400: 0.01516951643952492\n",
            "Cost after iteration 1500: 0.012037230944744261\n",
            "Cost after iteration 1600: 0.009846218415702674\n",
            "Cost after iteration 1700: 0.008279680655633741\n",
            "Cost after iteration 1800: 0.007092217623132917\n",
            "Cost after iteration 1900: 0.0061683866549556415\n",
            "Cost after iteration 2000: 0.005439610445953432\n",
            "Cost after iteration 2100: 0.004845637521750671\n",
            "Cost after iteration 2200: 0.004353830376552591\n",
            "Cost after iteration 2300: 0.003945356733819365\n",
            "Cost after iteration 2400: 0.003600605488585309\n",
            "Cost after iteration 2500: 0.003306979429272745\n",
            "Cost after iteration 2600: 0.003048772870529558\n",
            "Cost after iteration 2700: 0.002825227871180592\n",
            "Cost after iteration 2800: 0.00263045499030845\n",
            "Cost after iteration 2900: 0.002455158692185152\n",
            "Cost after iteration 2999: 0.00230276284964816\n"
          ]
        }
      ]
    },
    {
      "cell_type": "markdown",
      "source": [
        "Predicting Results"
      ],
      "metadata": {
        "id": "NhNMwpgpi4NV"
      }
    },
    {
      "cell_type": "code",
      "source": [
        "p = predict(X_train_final,y_train,parameters)"
      ],
      "metadata": {
        "colab": {
          "base_uri": "https://localhost:8080/"
        },
        "id": "5V6zzxREi1x4",
        "outputId": "1cc7d0f7-f9f2-4094-b4da-8b45043089b9"
      },
      "execution_count": null,
      "outputs": [
        {
          "output_type": "stream",
          "name": "stdout",
          "text": [
            "4\n",
            "Accuracy: 0.9999999999999998\n"
          ]
        }
      ]
    },
    {
      "cell_type": "code",
      "source": [
        "p_test = predict(X_test_final, y_test, parameters) "
      ],
      "metadata": {
        "colab": {
          "base_uri": "https://localhost:8080/"
        },
        "id": "PiWWjUfyjFHD",
        "outputId": "3923a438-beb3-4dfb-997c-b0bf8b4c05d1"
      },
      "execution_count": null,
      "outputs": [
        {
          "output_type": "stream",
          "name": "stdout",
          "text": [
            "4\n",
            "Accuracy: 0.78\n"
          ]
        }
      ]
    },
    {
      "cell_type": "markdown",
      "source": [
        "Predicting a custom image"
      ],
      "metadata": {
        "id": "aIidWrFQkmqx"
      }
    },
    {
      "cell_type": "code",
      "source": [
        "import scipy\n",
        "from PIL import Image\n",
        "from scipy import ndimage"
      ],
      "metadata": {
        "id": "aM0a5CzAk8wc"
      },
      "execution_count": null,
      "outputs": []
    },
    {
      "cell_type": "code",
      "source": [
        "print(parameters)"
      ],
      "metadata": {
        "id": "N6Aqf4KelIK5"
      },
      "execution_count": null,
      "outputs": []
    },
    {
      "cell_type": "code",
      "source": [
        "## START CODE HERE ##\n",
        "my_image = \"cat3.jpg\" # change this to the name of your image file \n",
        "my_label_y = [1] # the true class of your image (1 -> cat, 0 -> non-cat)\n",
        "## END CODE HERE ##\n",
        "\n",
        "fname = my_image\n",
        "print(num_px)\n",
        "image = np.array(Image.open(fname).resize((num_px, num_px)))\n",
        "plt.imshow(image)\n",
        "image = image / 255.\n",
        "image = image.reshape((1, num_px * num_px * 3)).T\n",
        "print(image.shape)\n",
        "my_predicted_image = predict(image, my_label_y, parameters)\n",
        "# print(my_predicted_image)\n",
        "print(classes)\n",
        "\n",
        "print (\"y = \" + str(np.squeeze(my_predicted_image)) + \", your L-layer model predicts a \\\"\" + classes[int(np.squeeze(my_predicted_image)),].decode(\"utf-8\") +  \"\\\" picture.\")"
      ],
      "metadata": {
        "colab": {
          "base_uri": "https://localhost:8080/",
          "height": 407
        },
        "id": "Igga8v6Okn-o",
        "outputId": "757d9b44-1fe6-4c7c-8d65-4d7e5f444c5d"
      },
      "execution_count": null,
      "outputs": [
        {
          "output_type": "stream",
          "name": "stdout",
          "text": [
            "64\n",
            "(12288, 1)\n",
            "4\n",
            "[[0.]]\n",
            "[1]\n",
            "Accuracy: 0.0\n",
            "[b'non-cat' b'cat']\n",
            "y = 0.0, your L-layer model predicts a \"non-cat\" picture.\n"
          ]
        },
        {
          "output_type": "display_data",
          "data": {
            "text/plain": [
              "<Figure size 432x288 with 1 Axes>"
            ],
            "image/png": "[encoded data removed]"
          },
          "metadata": {
            "needs_background": "light"
          }
        }
      ]
    }
  ]
}
